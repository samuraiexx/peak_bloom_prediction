{
 "cells": [
  {
   "cell_type": "code",
   "execution_count": 6,
   "metadata": {},
   "outputs": [
    {
     "name": "stderr",
     "output_type": "stream",
     "text": [
      "<ipython-input-6-e9aabc7c3c37>:34: FutureWarning: Dropping of nuisance columns in DataFrame reductions (with 'numeric_only=None') is deprecated; in a future version this will raise TypeError.  Select only valid columns before calling the reduction.\n",
      "  enriched = enriched.fillna(enriched.mean())\n"
     ]
    }
   ],
   "source": [
    "import joblib\n",
    "from lightgbm import LGBMRegressor\n",
    "from sklearn.preprocessing import LabelEncoder\n",
    "%run get_enriched_data.ipynb\n",
    "%run print_metrics.ipynb\n",
    "\n",
    "# Removed datasets: , \"usa\", , \"washingtondc\", \"meteoswiss\"\n",
    "enriched = get_enriched_data([\"japan\", \"kyoto\", \"liestal\", \"south_korea\", \"washingtondc\", \"meteoswiss\"])\n",
    "best_model = joblib.load(\"../best_kyoto.joblib\")"
   ]
  },
  {
   "cell_type": "code",
   "execution_count": 13,
   "metadata": {},
   "outputs": [
    {
     "name": "stderr",
     "output_type": "stream",
     "text": [
      "Using categorical_feature in Dataset.\n"
     ]
    },
    {
     "name": "stdout",
     "output_type": "stream",
     "text": [
      "Best Model:\n",
      "R2:  0.7064018697379906\n",
      "Adjusted R2:  0.6974440189392119\n",
      "MAE:  5.67459611995071\n",
      "RMSE:  8.118843740681024\n",
      "Current Model:\n",
      "R2:  0.9270781429160679\n",
      "Adjusted R2:  0.924853254374902\n",
      "MAE:  2.9295677014395096\n",
      "RMSE:  4.046191190439545\n"
     ]
    }
   ],
   "source": [
    "dataset = enriched.copy()\n",
    "\n",
    "test_mask = dataset[\"location\"].isin([\"kyoto\"]) & (dataset[\"year\"] > 2015)\n",
    "label_encoder = LabelEncoder().fit(dataset[\"location\"])\n",
    "dataset[\"location\"] = label_encoder.transform(dataset[\"location\"])\n",
    "\n",
    "train = dataset#[~test_mask]\n",
    "test = dataset[test_mask]\n",
    "\n",
    "model = LGBMRegressor()\n",
    "model = model.fit(train.drop(\"bloom_doy\", axis=1), train[\"bloom_doy\"], categorical_feature=[\"location\"])\n",
    "print(\"Best Model:\")\n",
    "print_metrics(best_model, test)\n",
    "print(\"Current Model:\")\n",
    "print_metrics(model, test)"
   ]
  },
  {
   "cell_type": "code",
   "execution_count": null,
   "metadata": {},
   "outputs": [],
   "source": []
  }
 ],
 "metadata": {
  "interpreter": {
   "hash": "2be5faf79681da6f2a61fdfdd5405d65d042280f7fba6178067603e3a2925119"
  },
  "kernelspec": {
   "display_name": "Python 3.10.0 64-bit",
   "language": "python",
   "name": "python3"
  },
  "language_info": {
   "codemirror_mode": {
    "name": "ipython",
    "version": 3
   },
   "file_extension": ".py",
   "mimetype": "text/x-python",
   "name": "python",
   "nbconvert_exporter": "python",
   "pygments_lexer": "ipython3",
   "version": "3.9.7"
  },
  "orig_nbformat": 4
 },
 "nbformat": 4,
 "nbformat_minor": 2
}
