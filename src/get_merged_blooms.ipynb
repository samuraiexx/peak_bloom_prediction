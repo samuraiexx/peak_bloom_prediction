{
 "cells": [
  {
   "cell_type": "code",
   "execution_count": null,
   "metadata": {},
   "outputs": [],
   "source": [
    "import pandas as pd\n",
    "\n",
    "all_locations = [\"japan\", \"kyoto\", \"meteoswiss\", \"liestal\", \"south_korea\", \"washingtondc\", \"usa\"]\n",
    "\n",
    "def get_merged_blooms(locations=all_locations):\n",
    "  files = [f\"../data/{location}.csv\" for location in locations]\n",
    "\n",
    "  df = pd.DataFrame()\n",
    "  for file in files:\n",
    "    new_df = pd.read_csv(file)\n",
    "    new_df[\"location\"] = new_df[\"location\"].apply(lambda x: x.split(r'/')[1] if r'/' in x else x)\n",
    "    new_df.set_index([\"location\", \"year\"])\n",
    "    df = pd.concat([df, new_df]).drop_duplicates()\n",
    "  \n",
    "  return df\n"
   ]
  }
 ],
 "metadata": {
  "interpreter": {
   "hash": "7005dbf095eea90e04c2047d4ebcd686b612588fba98578a1dd7b5f46ae8fbd0"
  },
  "kernelspec": {
   "display_name": "Python 3.9.7 ('rai')",
   "language": "python",
   "name": "python3"
  },
  "language_info": {
   "codemirror_mode": {
    "name": "ipython",
    "version": 3
   },
   "file_extension": ".py",
   "mimetype": "text/x-python",
   "name": "python",
   "nbconvert_exporter": "python",
   "pygments_lexer": "ipython3",
   "version": "3.9.7"
  },
  "orig_nbformat": 4
 },
 "nbformat": 4,
 "nbformat_minor": 2
}
