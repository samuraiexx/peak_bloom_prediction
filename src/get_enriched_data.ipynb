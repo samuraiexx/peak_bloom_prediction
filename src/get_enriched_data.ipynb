{
 "cells": [
  {
   "cell_type": "code",
   "execution_count": 1,
   "metadata": {},
   "outputs": [],
   "source": [
    "import pandas as pd\n",
    "import math\n",
    "%run get_merged_blooms.ipynb\n",
    "\n",
    "def get_enriched_data(locations=all_locations):\n",
    "  climate_df = pd.read_parquet(r\"../preprocessing_data/full_station_data.parquet\")\n",
    "  bloom_df = get_merged_blooms(locations)\n",
    "\n",
    "  enriched = pd.merge(bloom_df, climate_df, on=[\"location\", \"year\"])\n",
    "\n",
    "  def filter_doy(initial_doy, last_doy):\n",
    "    columns = enriched.columns.copy()\n",
    "    for column in columns:\n",
    "        doy = int(column.split('_')[-1]) - 1\n",
    "        if doy < initial_doy or doy > last_doy:\n",
    "          enriched.drop(column, axis=1, inplace=True)\n",
    "\n",
    "  def aggregate_columns(column_preffix, aggregate_size):\n",
    "    selected_columns = [column for column in enriched.columns if column_preffix in column]\n",
    "\n",
    "    for column in selected_columns:\n",
    "        doy = int(column.split('_')[-1]) - 1\n",
    "        batch = doy//aggregate_size\n",
    "        new_column = f\"{column_preffix}_{batch*aggregate_size}_{batch*aggregate_size + aggregate_size}\"\n",
    "\n",
    "        if new_column not in enriched.columns:\n",
    "          enriched[new_column] = 0\n",
    "\n",
    "        enriched[new_column] += enriched[column]/aggregate_size\n",
    "        enriched.drop(column, axis=1, inplace=True)\n",
    "\n",
    "  for i in range(1, 40):\n",
    "    enriched[f\"prev_bloom_{i}\"] = enriched.index.to_series().apply(lambda year: enriched.loc[year - i, \"bloom_doy\"] if year - i >= enriched.index.min() else math.nan)\n",
    "  enriched = enriched.fillna(enriched.mean())\n",
    "  enriched = enriched.drop([\"bloom_date\"], axis=1)\n",
    "  enriched = enriched[(enriched[\"bloom_doy\"] > 60) & (enriched[\"year\"] > 1950)]\n",
    "\n",
    "  aggregate_columns(\"PRCP\", 6)\n",
    "  aggregate_columns(\"T\", 5)\n",
    "  aggregate_columns(\"prev_bloom\", 4)\n",
    "\n",
    "  return enriched"
   ]
  }
 ],
 "metadata": {
  "interpreter": {
   "hash": "7005dbf095eea90e04c2047d4ebcd686b612588fba98578a1dd7b5f46ae8fbd0"
  },
  "kernelspec": {
   "display_name": "Python 3.9.7 ('rai')",
   "language": "python",
   "name": "python3"
  },
  "language_info": {
   "codemirror_mode": {
    "name": "ipython",
    "version": 3
   },
   "file_extension": ".py",
   "mimetype": "text/x-python",
   "name": "python",
   "nbconvert_exporter": "python",
   "pygments_lexer": "ipython3",
   "version": "3.9.7"
  },
  "orig_nbformat": 4
 },
 "nbformat": 4,
 "nbformat_minor": 2
}
