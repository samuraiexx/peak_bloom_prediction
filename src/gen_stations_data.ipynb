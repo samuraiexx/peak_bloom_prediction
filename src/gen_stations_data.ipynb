{
 "cells": [
  {
   "cell_type": "code",
   "execution_count": null,
   "metadata": {},
   "outputs": [],
   "source": [
    "\"\"\"\n",
    "File: read_ghcn.py\n",
    "Author: ned haughton\n",
    "Description: Code for reading GHCN dly file data\n",
    "\"\"\"\n",
    "\n",
    "import pandas as pd\n",
    "import numpy as np\n",
    "\n",
    "\n",
    "# Metadata specs #\n",
    "\n",
    "metadata_col_specs = [\n",
    "    (0,  12),\n",
    "    (12, 21),\n",
    "    (21, 31),\n",
    "    (31, 38),\n",
    "    (38, 41),\n",
    "    (41, 72),\n",
    "    (72, 76),\n",
    "    (76, 80),\n",
    "    (80, 86)\n",
    "]\n",
    "\n",
    "metadata_names = [\n",
    "    \"ID\",\n",
    "    \"LATITUDE\",\n",
    "    \"LONGITUDE\",\n",
    "    \"ELEVATION\",\n",
    "    \"STATE\",\n",
    "    \"NAME\",\n",
    "    \"GSN FLAG\",\n",
    "    \"HCN/CRN FLAG\",\n",
    "    \"WMO ID\"]\n",
    "\n",
    "metadata_dtype = {\n",
    "    \"ID\": str,\n",
    "    \"STATE\": str,\n",
    "    \"NAME\": str,\n",
    "    \"GSN FLAG\": str,\n",
    "    \"HCN/CRN FLAG\": str,\n",
    "    \"WMO ID\": str\n",
    "    }\n",
    "\n",
    "\n",
    "def read_station_metadata(filename=\"../preprocessing_data/ghcnd-stations.txt\"):\n",
    "    \"\"\"Reads in station metadata\n",
    "\n",
    "    :filename: ghcnd station metadata file.\n",
    "    :returns: station metadata as a pandas Dataframe\n",
    "\n",
    "    \"\"\"\n",
    "    df = pd.read_fwf(filename, metadata_col_specs, names=metadata_names,\n",
    "                     index_col='ID', dtype=metadata_dtype)\n",
    "\n",
    "    return df\n"
   ]
  },
  {
   "cell_type": "code",
   "execution_count": null,
   "metadata": {},
   "outputs": [],
   "source": [
    "df: pd.DataFrame = read_station_metadata()\n",
    "coord = pd.Series(list(zip(df[\"LATITUDE\"], df[\"LONGITUDE\"])))\n",
    "coord.index = df.index\n",
    "\n",
    "df[\"coord\"] = coord\n",
    "df.to_parquet(\"../preprocessing_data/stations.parquet\")"
   ]
  }
 ],
 "metadata": {
  "interpreter": {
   "hash": "2be5faf79681da6f2a61fdfdd5405d65d042280f7fba6178067603e3a2925119"
  },
  "kernelspec": {
   "display_name": "Python 3.10.0 64-bit",
   "language": "python",
   "name": "python3"
  },
  "language_info": {
   "codemirror_mode": {
    "name": "ipython",
    "version": 3
   },
   "file_extension": ".py",
   "mimetype": "text/x-python",
   "name": "python",
   "nbconvert_exporter": "python",
   "pygments_lexer": "ipython3",
   "version": "3.9.7"
  },
  "orig_nbformat": 4
 },
 "nbformat": 4,
 "nbformat_minor": 2
}
