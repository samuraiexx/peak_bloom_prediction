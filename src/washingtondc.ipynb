{
 "cells": [
  {
   "cell_type": "code",
   "execution_count": null,
   "metadata": {},
   "outputs": [],
   "source": [
    "import joblib\n",
    "from lightgbm import LGBMRegressor\n",
    "from sklearn.preprocessing import LabelEncoder\n",
    "%run get_enriched_data.ipynb\n",
    "%run print_metrics.ipynb\n",
    "\n",
    "# Removed datasets: \"usa\", \"japan\", \"south_korea\", \"kyoto\", \"meteoswiss\"\n",
    "enriched = get_enriched_data([\"washingtondc\", \"liestal\"])\n",
    "best_model = joblib.load(\"../best_washingtondc.joblib\")"
   ]
  },
  {
   "cell_type": "code",
   "execution_count": null,
   "metadata": {},
   "outputs": [],
   "source": [
    "dataset = enriched.copy()\n",
    "\n",
    "test_mask = dataset[\"location\"].isin([\"washingtondc\"]) & (dataset[\"year\"] > 2015)\n",
    "label_encoder = LabelEncoder().fit(dataset[\"location\"])\n",
    "dataset[\"location\"] = label_encoder.transform(dataset[\"location\"])\n",
    "\n",
    "train = dataset[~test_mask]\n",
    "test = dataset[test_mask]\n",
    "\n",
    "model = LGBMRegressor()\n",
    "model = model.fit(train.drop(\"bloom_doy\", axis=1), train[\"bloom_doy\"], categorical_feature=[\"location\"])\n",
    "print(\"Best Model:\")\n",
    "print_metrics(best_model, test)\n",
    "print(\"Current Model:\")\n",
    "print_metrics(model, test)"
   ]
  },
  {
   "cell_type": "code",
   "execution_count": null,
   "metadata": {},
   "outputs": [],
   "source": [
    "import joblib\n",
    "joblib.dump(model, \"../best_washingtondc.joblib\")"
   ]
  }
 ],
 "metadata": {
  "interpreter": {
   "hash": "2be5faf79681da6f2a61fdfdd5405d65d042280f7fba6178067603e3a2925119"
  },
  "kernelspec": {
   "display_name": "Python 3.10.0 64-bit",
   "language": "python",
   "name": "python3"
  },
  "language_info": {
   "codemirror_mode": {
    "name": "ipython",
    "version": 3
   },
   "file_extension": ".py",
   "mimetype": "text/x-python",
   "name": "python",
   "nbconvert_exporter": "python",
   "pygments_lexer": "ipython3",
   "version": "3.9.7"
  },
  "orig_nbformat": 4
 },
 "nbformat": 4,
 "nbformat_minor": 2
}
