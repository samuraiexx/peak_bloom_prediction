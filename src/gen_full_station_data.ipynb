{
 "cells": [
  {
   "cell_type": "code",
   "execution_count": null,
   "metadata": {},
   "outputs": [],
   "source": [
    "import pandas as pd\n",
    "import os\n",
    "from geopy import distance\n",
    "from pathlib import Path\n",
    "%run get_station_data.ipynb\n",
    "%run get_merged_blooms.ipynb\n",
    "\n",
    "Path(\"../preprocessing_data/best_station\").mkdir(parents=True, exist_ok=True)\n",
    "Path(\"../preprocessing_data/stations\").mkdir(parents=True, exist_ok=True)\n",
    "\n",
    "def get_best_station_data(location, bloom_coord, first_year):\n",
    "  first_year = max(first_year, 1950)\n",
    "  save_path = f\"../preprocessing_data/best_station/{location}.parquet\"\n",
    "  if os.path.exists(save_path):\n",
    "    return pd.read_parquet(save_path)\n",
    "  \n",
    "  if location.lower() == \"washingtondc\":\n",
    "    station = get_station_data(\"USC00186350\")\n",
    "  elif location.lower() == \"liestal\":\n",
    "    station = get_station_data(\"GME00127786\")\n",
    "  # elif location.lower() == \"kyoto\":\n",
    "  #   station = get_station_data(\"JA000047759\")\n",
    "  elif location.lower() == \"vancouver\":\n",
    "    station = get_station_data(\"CA001108395\")\n",
    "  else:\n",
    "    df = pd.read_parquet(\"../preprocessing_data/stations.parquet\")\n",
    "\n",
    "    df[\"dist (km)\"] = df[\"coord\"].apply(lambda coord: distance.distance(coord, bloom_coord).km)\n",
    "    df = df.sort_values('dist (km)')\n",
    "    df = df.loc[df['dist (km)'] < 20]\n",
    "\n",
    "    station = None\n",
    "    columns = [\"PRCP\", \"TMIN\", \"TMAX\"]\n",
    "    years_of_data = 0 \n",
    "    for index, row in df.iterrows():\n",
    "      new_station = get_station_data(index)\n",
    "      if not all([column in new_station.columns for column in columns]):\n",
    "        continue\n",
    "      new_years_of_data = new_station.loc[new_station.index.to_series().dt.year >= first_year, columns].dropna().shape[0]\n",
    "      if years_of_data < new_years_of_data:\n",
    "        years_of_data = new_years_of_data\n",
    "        station = new_station\n",
    "    \n",
    "  if station is None or station.empty:\n",
    "    pd.DataFrame().to_parquet(save_path)\n",
    "    return pd.DataFrame()\n",
    "\n",
    "  station[\"year\"] = station.index.to_series().dt.year\n",
    "  station[\"doy\"] = station.index.to_series().apply(lambda x: x.timetuple().tm_yday)\n",
    "  station[\"T\"] = (station[\"TMIN\"] + station[\"TMAX\"])/2\n",
    "  station = station.loc[\n",
    "    station[\"doy\"] < 90,\n",
    "    [\"year\", \"doy\", \"T\", \"PRCP\"]\n",
    "  ]\n",
    "  station = station.pivot_table([\"T\", \"PRCP\"], \"year\", \"doy\")\n",
    "  station.columns = ['_'.join([str(x) for x in col]) for col in station.columns.values]\n",
    "\n",
    "  station[\"location\"] = location\n",
    "  station.to_parquet(save_path)\n",
    "  return station"
   ]
  },
  {
   "cell_type": "code",
   "execution_count": null,
   "metadata": {},
   "outputs": [],
   "source": [
    "bloom_df = get_merged_blooms().sort_values(\"year\")\n",
    "locations = pd.unique(bloom_df[\"location\"].values)\n",
    "\n",
    "full_station_data = pd.DataFrame()\n",
    "for location in locations:\n",
    "  row = (bloom_df[bloom_df[\"location\"] == location]).iloc[0]\n",
    "  full_station_data = pd.concat([full_station_data, get_best_station_data(location, (row[\"lat\"], row[\"long\"]), row[\"year\"])])\n"
   ]
  },
  {
   "cell_type": "code",
   "execution_count": null,
   "metadata": {},
   "outputs": [],
   "source": [
    "full_station_data.to_parquet(\"../preprocessing_data/full_station_data.parquet\")"
   ]
  }
 ],
 "metadata": {
  "interpreter": {
   "hash": "2be5faf79681da6f2a61fdfdd5405d65d042280f7fba6178067603e3a2925119"
  },
  "kernelspec": {
   "display_name": "Python 3.10.0 64-bit",
   "language": "python",
   "name": "python3"
  },
  "language_info": {
   "codemirror_mode": {
    "name": "ipython",
    "version": 3
   },
   "file_extension": ".py",
   "mimetype": "text/x-python",
   "name": "python",
   "nbconvert_exporter": "python",
   "pygments_lexer": "ipython3",
   "version": "3.9.7"
  },
  "orig_nbformat": 4
 },
 "nbformat": 4,
 "nbformat_minor": 2
}
