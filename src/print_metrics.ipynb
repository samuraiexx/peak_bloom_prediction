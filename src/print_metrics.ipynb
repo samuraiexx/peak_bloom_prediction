{
 "cells": [
  {
   "cell_type": "code",
   "execution_count": null,
   "metadata": {},
   "outputs": [],
   "source": [
    "import math\n",
    "from sklearn.metrics import r2_score, mean_absolute_error, mean_squared_error\n",
    "\n",
    "def print_metrics(model, test):\n",
    "  pred_y = model.predict(test.drop(\"bloom_doy\", axis=1))\n",
    "  label_y = test[\"bloom_doy\"]\n",
    "\n",
    "  print(\"R2: \", r2_score(label_y, pred_y))\n",
    "  print(\"Adjusted R2: \", 1 - (1 - r2_score(label_y, pred_y))*(len(label_y) - 1)/(len(label_y) - test.shape[1] - 1))\n",
    "  print(\"MAE: \", mean_absolute_error(label_y, pred_y))\n",
    "  print(\"RMSE: \", math.sqrt(mean_squared_error(label_y, pred_y)))"
   ]
  }
 ],
 "metadata": {
  "language_info": {
   "name": "python"
  },
  "orig_nbformat": 4
 },
 "nbformat": 4,
 "nbformat_minor": 2
}
