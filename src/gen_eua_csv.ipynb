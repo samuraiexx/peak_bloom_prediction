{
 "cells": [
  {
   "cell_type": "code",
   "execution_count": 101,
   "metadata": {},
   "outputs": [],
   "source": [
    "import pandas as pd\n",
    "\n",
    "def map_intensity(intensity):\n",
    "  if intensity == r'95% or more':\n",
    "    return 1\n",
    "  if intensity == r'75-94%':\n",
    "    return 2\n",
    "  if intensity == r'50-74%':\n",
    "    return 3\n",
    "  if intensity == r'25-49%':\n",
    "    return 4\n",
    "  if intensity == r'5-24%':\n",
    "    return 5\n",
    "  if intensity == r'Less than 5%': \n",
    "    return 6\n",
    "  if intensity == r'More than 10':\n",
    "    return 7\n",
    "\n",
    "df = pd.read_csv(r\"../data/USA-NPN_status_intensity_observations_data.csv\")\n",
    "df = df[df[\"Intensity_Value\"] != \"-9999\"]\n",
    "df[\"year\"] = pd.to_datetime(df[\"Observation_Date\"]).dt.year\n",
    "df[\"location\"] = df[\"Site_ID\"].apply(lambda x: f\"usa_{x}\")\n",
    "df[\"lat\"] = df[\"Latitude\"]\n",
    "df[\"long\"] = df[\"Longitude\"]\n",
    "df[\"alt\"] = df[\"Elevation_in_Meters\"]\n",
    "df[\"bloom_date\"] = df[\"Observation_Date\"]\n",
    "df[\"bloom_doy\"] = df[\"Day_of_Year\"]\n",
    "\n",
    "df[\"Intensity_Value\"] = df[\"Intensity_Value\"].apply(map_intensity)\n",
    "df = df.sort_values([\"Intensity_Value\", \"bloom_doy\"])\n",
    "df = df.loc[:, [\"location\",\"lat\",\"long\",\"alt\",\"year\",\"bloom_date\",\"bloom_doy\"]]\n",
    "df = df.drop_duplicates(subset=[\"location\", \"year\"])"
   ]
  },
  {
   "cell_type": "code",
   "execution_count": 102,
   "metadata": {},
   "outputs": [],
   "source": [
    "df.to_csv(\"../data/usa.csv\", index=False)"
   ]
  },
  {
   "cell_type": "code",
   "execution_count": null,
   "metadata": {},
   "outputs": [],
   "source": []
  }
 ],
 "metadata": {
  "interpreter": {
   "hash": "7005dbf095eea90e04c2047d4ebcd686b612588fba98578a1dd7b5f46ae8fbd0"
  },
  "kernelspec": {
   "display_name": "Python 3.9.7 ('rai')",
   "language": "python",
   "name": "python3"
  },
  "language_info": {
   "codemirror_mode": {
    "name": "ipython",
    "version": 3
   },
   "file_extension": ".py",
   "mimetype": "text/x-python",
   "name": "python",
   "nbconvert_exporter": "python",
   "pygments_lexer": "ipython3",
   "version": "3.9.7"
  },
  "orig_nbformat": 4
 },
 "nbformat": 4,
 "nbformat_minor": 2
}
